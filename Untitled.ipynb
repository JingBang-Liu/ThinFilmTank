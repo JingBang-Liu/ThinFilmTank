{
 "cells": [
  {
   "cell_type": "markdown",
   "metadata": {},
   "source": [
    "# Thin film in water tank"
   ]
  },
  {
   "cell_type": "markdown",
   "metadata": {},
   "source": [
    "## James' idea for initial configuration\n",
    "\n",
    "We start with 2 dimensional water tank with a thin film of water. In MD simulation this means that the tank is very thin in y direction. According to Yixin we suppose the tank is made of Copper and is the size of *(200, 10, 100)* and is 3 atoms thick. The lattice constant is 0.8\\*3.4 angstrom. The structure of the solid plate is face centred cubic"
   ]
  },
  {
   "cell_type": "code",
   "execution_count": 6,
   "metadata": {
    "ExecuteTime": {
     "end_time": "2020-03-14T23:04:29.955970Z",
     "start_time": "2020-03-14T23:04:29.932952Z"
    }
   },
   "outputs": [],
   "source": [
    "from ase.lattice.cubic import SimpleCubic # from ase import preconfigured SimpleCubic object\n",
    "from ase.io import lammpsdata # from ase import data type compatible with lammps\n",
    "from ase import io # this is for file outputing\n",
    "import numpy as np # everybody needs numpy :)\n",
    "from ase.lattice.cubic import FaceCenteredCubic\n",
    "\n",
    "# Define the latticeconstant, size of tank\n",
    "lat_s = 3.4*0.8 # distance between atoms, unit in angstrom\n",
    "t_x = 300 # number of atoms in x direction\n",
    "t_y = 10 # number of atoms in y direction\n",
    "t_z = 100 # number of atoms in z direction\n",
    "wall_th = 3 # number of atoms of a layer of wall\n",
    "\n",
    "# # First we build a simple brick of 'Cu' of size (100,10,100)\n",
    "# brick = SimpleCubic('Cu',size=(t_x,t_y,t_z),latticeconstant=lat)\n",
    "\n",
    "# # Now carve!\n",
    "# del_idx = []\n",
    "# for k in range(wall_th,t_z):\n",
    "#     for j in range(t_y):\n",
    "#         for i in range(wall_th,t_x-wall_th):\n",
    "#             del_idx.append(k*t_y*t_x+j*t_x+i)\n",
    "# del brick[del_idx]"
   ]
  },
  {
   "cell_type": "code",
   "execution_count": 7,
   "metadata": {
    "ExecuteTime": {
     "end_time": "2020-03-14T23:04:30.404563Z",
     "start_time": "2020-03-14T23:04:30.397091Z"
    }
   },
   "outputs": [],
   "source": [
    "from ase.visualize import view\n",
    "\n",
    "# view(brick,viewer='ngl')"
   ]
  },
  {
   "cell_type": "code",
   "execution_count": 8,
   "metadata": {
    "ExecuteTime": {
     "end_time": "2020-03-14T23:04:30.783446Z",
     "start_time": "2020-03-14T23:04:30.749502Z"
    }
   },
   "outputs": [
    {
     "name": "stdout",
     "output_type": "stream",
     "text": [
      "[[816.    0.    0. ]\n",
      " [  0.   27.2   0. ]\n",
      " [  0.    0.  272. ]]\n"
     ]
    }
   ],
   "source": [
    "# First build the wall on the left\n",
    "left_wall = FaceCenteredCubic('Pt',size=(wall_th,t_y,t_z),latticeconstant=lat_s) # simple as that!\n",
    "\n",
    "# Next build the wall on the right\n",
    "right_wall = FaceCenteredCubic('Pt', size=(wall_th,t_y,t_z),latticeconstant=lat_s) # very simple one line!\n",
    "right_wall_pos = right_wall.get_positions() # you can even get the positions of each atom!\n",
    "right_wall_pos[:,0] = right_wall_pos[:,0] + (t_x-wall_th)*lat_s # set the correct position of right wall\n",
    "right_wall.set_positions(right_wall_pos) # now move the wall to the right\n",
    "\n",
    "# Next build the bottom wall\n",
    "bottom_wall = FaceCenteredCubic('Pt', size=(t_x-2*wall_th,t_y,wall_th),latticeconstant=lat_s) # again very simple!\n",
    "bottom_wall_pos = bottom_wall.get_positions()\n",
    "bottom_wall_pos[:,0] = bottom_wall_pos[:,0] + wall_th*lat_s\n",
    "bottom_wall.set_positions(bottom_wall_pos)\n",
    "\n",
    "# Set up suitable cell size\n",
    "cell = np.eye(3)\n",
    "cell[0,0] = t_x*lat_s\n",
    "cell[1,1] = t_y*lat_s\n",
    "cell[2,2] = t_z*lat_s\n",
    "\n",
    "tank = left_wall + right_wall + bottom_wall # just build the tank by adding each component together!\n",
    "tank.set_cell(cell) # set to the right cell\n",
    "\n",
    "print(cell)\n",
    "\n",
    "# FaceCenteredCubic?\n",
    "\n"
   ]
  },
  {
   "cell_type": "code",
   "execution_count": 15,
   "metadata": {
    "ExecuteTime": {
     "end_time": "2020-03-14T23:04:32.170541Z",
     "start_time": "2020-03-14T23:04:31.190834Z"
    }
   },
   "outputs": [
    {
     "data": {
      "application/vnd.jupyter.widget-view+json": {
       "model_id": "743c0f293eec436c9a7a2f64c462497f",
       "version_major": 2,
       "version_minor": 0
      },
      "text/plain": [
       "HBox(children=(NGLWidget(), VBox(children=(Dropdown(description='Show', options=('All', 'Pt'), value='All'), D…"
      ]
     },
     "metadata": {},
     "output_type": "display_data"
    }
   ],
   "source": [
    "view(tank,viewer='ngl')"
   ]
  },
  {
   "cell_type": "code",
   "execution_count": 9,
   "metadata": {
    "ExecuteTime": {
     "end_time": "2020-03-14T23:23:04.006405Z",
     "start_time": "2020-03-14T23:23:03.986401Z"
    }
   },
   "outputs": [
    {
     "name": "stdout",
     "output_type": "stream",
     "text": [
      "the optimized density for argon is around  0.02111744351719927 atoms per A^3 for lattice number 3.4 \n",
      "So for we need  73206 argon molecules inside a box of size ( 799.6800000000001 , 27.200000000000003 , 81.60000000000001 )\n"
     ]
    }
   ],
   "source": [
    "# Now we try to add in the argon\n",
    "#opt_dens = 48840/600/121/83\n",
    "lat_l = 3.4\n",
    "opt_dens = 0.83/lat_l**3\n",
    "liquid_th = 30\n",
    "liquid_n = np.int(np.floor((t_x-2*wall_th)*(t_y)*(liquid_th)*lat_l**3*opt_dens))\n",
    "print('the optimized density for argon is around ', opt_dens, 'atoms per A^3 for lattice number 3.4 ')\n",
    "print('So for we need ', liquid_n, 'argon molecules inside a box of size (', (t_x-2*wall_th)*lat_s,',',t_y*lat_s,',',\n",
    "      (liquid_th)*lat_s,')')"
   ]
  },
  {
   "cell_type": "code",
   "execution_count": 10,
   "metadata": {
    "ExecuteTime": {
     "end_time": "2020-03-14T23:34:55.308548Z",
     "start_time": "2020-03-14T23:34:54.618711Z"
    }
   },
   "outputs": [],
   "source": [
    "# Function to remove Hydrogen atoms from the structures\n",
    "def remove_H(m):\n",
    "    m_noH = m.copy()\n",
    "    sym=m.get_chemical_symbols()\n",
    "    del_idx = [k for k in range(len(sym)) if sym[k]=='H']\n",
    "    del m_noH[del_idx]\n",
    "    return m_noH\n",
    "\n",
    "# Now read the water configuration generated from packmol\n",
    "\n",
    "liquid_temp = io.read(filename='thinfilmTank.xyz',format='xyz')\n",
    "#water_temp = remove_H(water_temp)\n",
    "liquid_pos = liquid_temp.get_positions()\n",
    "liquid_pos[:,0] = liquid_pos[:,0] + wall_th*lat_s + 5.0\n",
    "liquid_pos[:,2] = liquid_pos[:,2] + wall_th*lat_s + 1.0\n",
    "\n",
    "liquid = SimpleCubic('Ar',size=(1,1,liquid_n),latticeconstant=lat_l)\n",
    "liquid.set_positions(liquid_pos)\n",
    "liquid.set_cell(cell)\n"
   ]
  },
  {
   "cell_type": "code",
   "execution_count": 11,
   "metadata": {
    "ExecuteTime": {
     "end_time": "2020-03-14T23:34:57.080466Z",
     "start_time": "2020-03-14T23:34:55.310583Z"
    }
   },
   "outputs": [],
   "source": [
    "# Now add the wall and water together to get the\n",
    "# final configuration\n",
    "from ase.io import lammpsdata\n",
    "\n",
    "tank_film = tank + liquid\n",
    "tank_film.write(filename='atomdata',format='lammps-data')"
   ]
  },
  {
   "cell_type": "markdown",
   "metadata": {},
   "source": [
    "# Dimension for liquid argon\n",
    "\n",
    "From Yixin's paper we know that for liquid argon $\\sigma=3.4 A$, number density $n^*=0.83/\\sigma^3$."
   ]
  },
  {
   "cell_type": "code",
   "execution_count": 34,
   "metadata": {
    "ExecuteTime": {
     "end_time": "2020-03-12T13:44:57.116304Z",
     "start_time": "2020-03-12T13:44:57.101812Z"
    }
   },
   "outputs": [
    {
     "name": "stdout",
     "output_type": "stream",
     "text": [
      "382231\n"
     ]
    }
   ],
   "source": [
    "# for liquid Argon we need\n",
    "sigma_A = 3.4\n",
    "n_A = 0.83/sigma_A**3\n",
    "water_n = np.int(np.floor((t_x-2*wall_th)*(t_y)*(water_th)*lat**3*n_A))\n",
    "print(water_n)"
   ]
  },
  {
   "cell_type": "markdown",
   "metadata": {},
   "source": [
    "# Test the sequence of index of SimpleCubic\n",
    "\n",
    "In this section we build a simple 2\\*3\\*4 cubic solid using SimpleCubic function from ase and delete the atoms one by one to study the sequence of index of SimpleCubic"
   ]
  },
  {
   "cell_type": "code",
   "execution_count": 25,
   "metadata": {
    "ExecuteTime": {
     "end_time": "2020-03-07T11:35:40.818451Z",
     "start_time": "2020-03-07T11:35:40.720549Z"
    }
   },
   "outputs": [
    {
     "data": {
      "application/vnd.jupyter.widget-view+json": {
       "model_id": "f32cee0142ff416e9ecf174189fa5fbb",
       "version_major": 2,
       "version_minor": 0
      },
      "text/plain": [
       "HBox(children=(NGLWidget(), VBox(children=(Dropdown(description='Show', options=('All', 'Cu'), value='All'), D…"
      ]
     },
     "metadata": {},
     "output_type": "display_data"
    }
   ],
   "source": [
    "lat = 3.93\n",
    "C = SimpleCubic('Cu', size=(2,3,4), latticeconstant=lat)\n",
    "\n",
    "# the initial cube\n",
    "view(C,viewer='ngl')"
   ]
  },
  {
   "cell_type": "code",
   "execution_count": 26,
   "metadata": {
    "ExecuteTime": {
     "end_time": "2020-03-07T11:36:41.800590Z",
     "start_time": "2020-03-07T11:36:41.675654Z"
    }
   },
   "outputs": [
    {
     "data": {
      "application/vnd.jupyter.widget-view+json": {
       "model_id": "12373f2d3b28434696ad3a21e699f5d3",
       "version_major": 2,
       "version_minor": 0
      },
      "text/plain": [
       "HBox(children=(NGLWidget(), VBox(children=(Dropdown(description='Show', options=('All', 'Cu'), value='All'), D…"
      ]
     },
     "metadata": {},
     "output_type": "display_data"
    }
   ],
   "source": [
    "del C[0]\n",
    "\n",
    "view(C,viewer='ngl')"
   ]
  },
  {
   "cell_type": "code",
   "execution_count": 27,
   "metadata": {
    "ExecuteTime": {
     "end_time": "2020-03-07T11:37:01.250645Z",
     "start_time": "2020-03-07T11:37:01.098673Z"
    }
   },
   "outputs": [
    {
     "data": {
      "application/vnd.jupyter.widget-view+json": {
       "model_id": "6da712e4709441948ff9dc369032ab4d",
       "version_major": 2,
       "version_minor": 0
      },
      "text/plain": [
       "HBox(children=(NGLWidget(), VBox(children=(Dropdown(description='Show', options=('All', 'Cu'), value='All'), D…"
      ]
     },
     "metadata": {},
     "output_type": "display_data"
    }
   ],
   "source": [
    "del C[0]\n",
    "\n",
    "view(C,viewer='ngl')"
   ]
  },
  {
   "cell_type": "code",
   "execution_count": 28,
   "metadata": {
    "ExecuteTime": {
     "end_time": "2020-03-07T11:37:41.094271Z",
     "start_time": "2020-03-07T11:37:40.996696Z"
    }
   },
   "outputs": [
    {
     "data": {
      "application/vnd.jupyter.widget-view+json": {
       "model_id": "f1041d8b6b924e95afb9d22918beceb3",
       "version_major": 2,
       "version_minor": 0
      },
      "text/plain": [
       "HBox(children=(NGLWidget(), VBox(children=(Dropdown(description='Show', options=('All', 'Cu'), value='All'), D…"
      ]
     },
     "metadata": {},
     "output_type": "display_data"
    }
   ],
   "source": [
    "del C[0]\n",
    "\n",
    "view(C,viewer='ngl')"
   ]
  },
  {
   "cell_type": "markdown",
   "metadata": {},
   "source": [
    "# Build a tank!"
   ]
  },
  {
   "cell_type": "code",
   "execution_count": 1,
   "metadata": {
    "ExecuteTime": {
     "end_time": "2020-03-14T00:14:41.756825Z",
     "start_time": "2020-03-14T00:14:40.254783Z"
    }
   },
   "outputs": [],
   "source": [
    "# from ase.lattice.cubic import SimpleCubic # from ase import preconfigured SimpleCubic object\n",
    "# from ase.io import lammpsdata # from ase import data type compatible with lammps\n",
    "# from ase import io # this is for file outputing\n",
    "# import numpy as np # everybody needs numpy :)\n",
    "\n",
    "# # Define the latticeconstant, size of tank\n",
    "# lat = 3.93 # distance between atoms, unit in angstrom\n",
    "# t_x = 1000 # number of atoms in x direction\n",
    "# t_y = 10 # number of atoms in y direction\n",
    "# t_z = 100 # number of atoms in z direction\n",
    "# wall_th = 3 # number of atoms of a layer of wall\n",
    "\n",
    "# # First build the wall on the left\n",
    "# left_wall = SimpleCubic('Cu',size=(wall_th,t_y,t_z),latticeconstant=lat) # simple as that!\n",
    "\n",
    "# # Next build the wall on the right\n",
    "# right_wall = SimpleCubic('Cu', size=(wall_th,t_y,t_z),latticeconstant=lat) # very simple one line!\n",
    "# right_wall_pos = right_wall.get_positions() # you can even get the positions of each atom!\n",
    "# right_wall_pos[:,0] = right_wall_pos[:,0] + (t_x-wall_th)*lat # set the correct position of right wall\n",
    "# right_wall.set_positions(right_wall_pos) # now move the wall to the right\n",
    "\n",
    "# # Next build the bottom wall\n",
    "# bottom_wall = SimpleCubic('Cu', size=(t_x-2*wall_th,t_y,wall_th),latticeconstant=lat) # again very simple!\n",
    "# bottom_wall_pos = bottom_wall.get_positions()\n",
    "# bottom_wall_pos[:,0] = bottom_wall_pos[:,0] + wall_th*lat\n",
    "# bottom_wall.set_positions(bottom_wall_pos)\n",
    "\n",
    "# # Set up suitable cell size\n",
    "# cell = np.eye(3)\n",
    "# cell[0,0] = t_x*lat\n",
    "# cell[1,1] = t_y*lat\n",
    "# cell[2,2] = t_z*lat\n",
    "\n",
    "# # Build the tank\n",
    "# tank = left_wall + right_wall + bottom_wall # just build the tank by adding each component together!\n",
    "# tank.set_cell(cell) # set to the right cell\n",
    "\n",
    "# # Output lammps file\n",
    "# tank.write(filename='atomdata',format='lammps-data') # very easy one line!"
   ]
  },
  {
   "cell_type": "code",
   "execution_count": null,
   "metadata": {},
   "outputs": [],
   "source": []
  }
 ],
 "metadata": {
  "kernelspec": {
   "display_name": "Python 3",
   "language": "python",
   "name": "python3"
  },
  "language_info": {
   "codemirror_mode": {
    "name": "ipython",
    "version": 3
   },
   "file_extension": ".py",
   "mimetype": "text/x-python",
   "name": "python",
   "nbconvert_exporter": "python",
   "pygments_lexer": "ipython3",
   "version": "3.7.3"
  },
  "latex_envs": {
   "LaTeX_envs_menu_present": true,
   "autoclose": false,
   "autocomplete": true,
   "bibliofile": "biblio.bib",
   "cite_by": "apalike",
   "current_citInitial": 1,
   "eqLabelWithNumbers": true,
   "eqNumInitial": 1,
   "hotkeys": {
    "equation": "Ctrl-E",
    "itemize": "Ctrl-I"
   },
   "labels_anchors": false,
   "latex_user_defs": false,
   "report_style_numbering": false,
   "user_envs_cfg": false
  },
  "toc": {
   "base_numbering": 1,
   "nav_menu": {},
   "number_sections": true,
   "sideBar": true,
   "skip_h1_title": false,
   "title_cell": "Table of Contents",
   "title_sidebar": "Contents",
   "toc_cell": false,
   "toc_position": {},
   "toc_section_display": true,
   "toc_window_display": true
  }
 },
 "nbformat": 4,
 "nbformat_minor": 2
}
